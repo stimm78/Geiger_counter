{
 "cells": [
  {
   "cell_type": "code",
   "execution_count": 4,
   "id": "1a724ea1",
   "metadata": {},
   "outputs": [],
   "source": [
    "import numpy as np\n",
    "import matplotlib.pyplot as plt\n",
    "from scipy.optimize import minimize"
   ]
  },
  {
   "cell_type": "code",
   "execution_count": 3,
   "id": "2b8427a3",
   "metadata": {},
   "outputs": [],
   "source": [
    "#Input is relative file pathname, returns the array of times between events\n",
    "def file_to_deltas(filename):\n",
    "    file = open(filename, \"r\")\n",
    "    data = [float(i.rstrip()) for i in file]\n",
    "    \n",
    "    deltas =[data[i] - data[i-1] for i in range (1, len(data))]\n",
    "    return [i for i in deltas if i > 0.0015]"
   ]
  },
  {
   "cell_type": "code",
   "execution_count": 6,
   "id": "eead446e",
   "metadata": {},
   "outputs": [],
   "source": [
    "def prob(x, r):\n",
    "    return r * np.exp(-1 * r * x)\n",
    "\n",
    "def dist_unprob(r, ds):\n",
    "    return 1 - np.prod(prob(np.array(ds), r))\n",
    "\n",
    "#Input is array of times between events, returns the expected counts per second\n",
    "#If the input does indeed follow an exponential distribution, the output should be close to the input's average\n",
    "def rate(ds):\n",
    "    return minimize(dist_unprob, 1/np.average(ds), args=(ds, ), bounds=((0, None), )).x[0]"
   ]
  }
 ],
 "metadata": {
  "kernelspec": {
   "display_name": "Python 3 (ipykernel)",
   "language": "python",
   "name": "python3"
  },
  "language_info": {
   "codemirror_mode": {
    "name": "ipython",
    "version": 3
   },
   "file_extension": ".py",
   "mimetype": "text/x-python",
   "name": "python",
   "nbconvert_exporter": "python",
   "pygments_lexer": "ipython3",
   "version": "3.11.5"
  }
 },
 "nbformat": 4,
 "nbformat_minor": 5
}
